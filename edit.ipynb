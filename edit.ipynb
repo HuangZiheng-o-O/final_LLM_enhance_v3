{
 "cells": [
  {
   "cell_type": "code",
   "execution_count": null,
   "id": "initial_id",
   "metadata": {
    "collapsed": true
   },
   "outputs": [],
   "source": [
    ""
   ]
  },
  {
   "metadata": {
    "ExecuteTime": {
     "end_time": "2024-09-26T14:13:54.564410Z",
     "start_time": "2024-09-26T14:13:53.875042Z"
    }
   },
   "cell_type": "code",
   "source": [
    "import os\n",
    "import openai\n",
    "import yaml\n",
    "\n",
    "import re\n",
    "\n",
    "\n",
    "import json\n",
    "import re\n",
    "\n",
    "# Load API key from a YAML configuration file\n",
    "with open(\"config.yaml\") as f:\n",
    " config_yaml = yaml.load(f, Loader=yaml.FullLoader)\n",
    "\n",
    "# Initialize the OpenAI client with the API key\n",
    "client = openai.OpenAI(api_key=config_yaml['token'])\n",
    "\n",
    "# Set the model name\n",
    "MODEL = \"gpt-4o-mini\"\n",
    "\n",
    "def llm(prompt, stop=[\"\\n\"]):\n",
    "    # Prepare the dialog for the API request\n",
    "    dialogs = [{\"role\": \"user\", \"content\": prompt}]\n",
    "\n",
    "    completion = client.chat.completions.create(\n",
    "        model=MODEL,\n",
    "        messages=dialogs\n",
    "    )\n",
    "    return completion.choices[0].message.content"
   ],
   "id": "68c713115790727c",
   "outputs": [],
   "execution_count": 1
  },
  {
   "metadata": {},
   "cell_type": "code",
   "outputs": [],
   "execution_count": null,
   "source": "",
   "id": "93a91501e2430fb"
  }
 ],
 "metadata": {
  "kernelspec": {
   "display_name": "Python 3",
   "language": "python",
   "name": "python3"
  },
  "language_info": {
   "codemirror_mode": {
    "name": "ipython",
    "version": 2
   },
   "file_extension": ".py",
   "mimetype": "text/x-python",
   "name": "python",
   "nbconvert_exporter": "python",
   "pygments_lexer": "ipython2",
   "version": "2.7.6"
  }
 },
 "nbformat": 4,
 "nbformat_minor": 5
}
