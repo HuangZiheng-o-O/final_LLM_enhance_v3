{
 "cells": [
  {
   "cell_type": "code",
   "id": "initial_id",
   "metadata": {
    "collapsed": true,
    "ExecuteTime": {
     "end_time": "2024-10-10T11:17:07.322005Z",
     "start_time": "2024-10-10T11:16:50.160929Z"
    }
   },
   "source": "from  retrieval_based_solution import retrieve",
   "outputs": [],
   "execution_count": 3
  },
  {
   "metadata": {
    "ExecuteTime": {
     "end_time": "2024-10-10T11:17:11.946519Z",
     "start_time": "2024-10-10T11:17:10.117541Z"
    }
   },
   "cell_type": "code",
   "source": "retrieve(\"A person crawls on the ground in a baby-like motion.\")",
   "id": "b20706fb7b45c35",
   "outputs": [
    {
     "name": "stdout",
     "output_type": "stream",
     "text": [
      "A person crawls on the ground in a motion like a baby.\n"
     ]
    },
    {
     "data": {
      "text/plain": [
       "'A person crawls on the ground in a motion like a baby.'"
      ]
     },
     "execution_count": 4,
     "metadata": {},
     "output_type": "execute_result"
    }
   ],
   "execution_count": 4
  },
  {
   "metadata": {
    "ExecuteTime": {
     "end_time": "2024-10-10T13:40:26.051016Z",
     "start_time": "2024-10-10T13:40:20.044965Z"
    }
   },
   "cell_type": "code",
   "source": [
    "from LLM_process_complex import analyze_fine_moton_control_txt\n",
    "\n",
    "sequence_explanation, control_results = analyze_fine_moton_control_txt(\"A person crawls on the ground in a baby-like motion.\")\n",
    "print(control_results)\n"
   ],
   "id": "dc7611530adca208",
   "outputs": [
    {
     "name": "stdout",
     "output_type": "stream",
     "text": [
      "step1: The man positions himself on all fours, placing his hands flat on the ground while his knees are bent and resting on the floor.  \n",
      "step2: The man's right hand and left knee move forward simultaneously, followed by the left hand and right knee, creating a coordinated crawling motion.\n",
      "[\n",
      "  {\n",
      "    \"body part\": \"left arm\",\n",
      "    \"description\": \"The man's left arm is extended forward with the elbow slightly bent, palm flat on the ground.\"\n",
      "  },\n",
      "  {\n",
      "    \"body part\": \"right arm\",\n",
      "    \"description\": \"The man's right arm is extended forward with the elbow slightly bent, palm flat on the ground.\"\n",
      "  },\n",
      "  {\n",
      "    \"body part\": \"left leg\",\n",
      "    \"description\": \"The man's left leg is bent at the knee and positioned on the ground.\"\n",
      "  },\n",
      "  {\n",
      "    \"body part\": \"right leg\",\n",
      "    \"description\": \"The man's right leg is bent at the knee and positioned on the ground.\"\n",
      "  },\n",
      "  {\n",
      "    \"body part\": \"spine\",\n",
      "    \"description\": \"The man's spine is arched slightly with the torso lifted up.\"\n",
      "  }\n",
      "]\n",
      "[{'body part': 'left arm', 'description': \"The man's left arm is extended forward with the elbow slightly bent, palm flat on the ground.\"}, {'body part': 'right arm', 'description': \"The man's right arm is extended forward with the elbow slightly bent, palm flat on the ground.\"}, {'body part': 'left leg', 'description': \"The man's left leg is bent at the knee and positioned on the ground.\"}, {'body part': 'right leg', 'description': \"The man's right leg is bent at the knee and positioned on the ground.\"}, {'body part': 'spine', 'description': \"The man's spine is arched slightly with the torso lifted up.\"}]\n"
     ]
    }
   ],
   "execution_count": 9
  },
  {
   "metadata": {
    "ExecuteTime": {
     "end_time": "2024-10-10T13:43:33.855337Z",
     "start_time": "2024-10-10T13:43:33.828291Z"
    }
   },
   "cell_type": "code",
   "source": [
    "descrip_left_arm = control_results[0]['description']\n",
    "descrip_right_arm = control_results[1]['description']\n",
    "descrip_left_leg = control_results[2]['description']\n",
    "descrip_right_leg = control_results[3]['description']\n",
    "descrip_spine = control_results[4]['description']\n",
    "\n",
    "# 打印输出\n",
    "print(descrip_left_arm)\n",
    "print(descrip_right_arm)\n",
    "print(descrip_left_leg)\n",
    "print(descrip_right_leg)\n",
    "print(descrip_spine)\n"
   ],
   "id": "72402425e779bdc8",
   "outputs": [
    {
     "name": "stdout",
     "output_type": "stream",
     "text": [
      "The man's left arm is extended forward with the elbow slightly bent, palm flat on the ground.\n",
      "The man's right arm is extended forward with the elbow slightly bent, palm flat on the ground.\n",
      "The man's left leg is bent at the knee and positioned on the ground.\n",
      "The man's right leg is bent at the knee and positioned on the ground.\n",
      "The man's spine is arched slightly with the torso lifted up.\n"
     ]
    }
   ],
   "execution_count": 10
  },
  {
   "metadata": {},
   "cell_type": "code",
   "outputs": [],
   "execution_count": null,
   "source": "",
   "id": "e9940b761f6d73bc"
  }
 ],
 "metadata": {
  "kernelspec": {
   "display_name": "Python 3",
   "language": "python",
   "name": "python3"
  },
  "language_info": {
   "codemirror_mode": {
    "name": "ipython",
    "version": 2
   },
   "file_extension": ".py",
   "mimetype": "text/x-python",
   "name": "python",
   "nbconvert_exporter": "python",
   "pygments_lexer": "ipython2",
   "version": "2.7.6"
  }
 },
 "nbformat": 4,
 "nbformat_minor": 5
}
